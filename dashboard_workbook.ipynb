{
 "cells": [
  {
   "cell_type": "markdown",
   "metadata": {},
   "source": [
    "### Imports"
   ]
  },
  {
   "cell_type": "code",
   "execution_count": 1,
   "metadata": {},
   "outputs": [],
   "source": [
    "import os\n",
    "import streamlit as st\n",
    "import numpy as np\n",
    "import yfinance as yf\n",
    "from dotenv import load_dotenv\n",
    "from stocknews import StockNews\n",
    "from datetime import date, datetime, timedelta\n",
    "from prophet import Prophet\n",
    "from prophet.plot import plot_plotly\n",
    "from plotly import graph_objects as go"
   ]
  },
  {
   "cell_type": "code",
   "execution_count": 2,
   "metadata": {},
   "outputs": [
    {
     "data": {
      "text/plain": [
       "True"
      ]
     },
     "execution_count": 2,
     "metadata": {},
     "output_type": "execute_result"
    }
   ],
   "source": [
    "load_dotenv()"
   ]
  },
  {
   "cell_type": "markdown",
   "metadata": {},
   "source": [
    "### Set-Up"
   ]
  },
  {
   "cell_type": "code",
   "execution_count": 3,
   "metadata": {},
   "outputs": [
    {
     "name": "stderr",
     "output_type": "stream",
     "text": [
      "2023-07-18 20:56:07.978 \n",
      "  \u001b[33m\u001b[1mWarning:\u001b[0m to view this Streamlit app on a browser, run it with the following\n",
      "  command:\n",
      "\n",
      "    streamlit run /opt/anaconda3/lib/python3.9/site-packages/ipykernel_launcher.py [ARGUMENTS]\n",
      "2023-07-18 20:56:07.978 Session state does not function when running a script without `streamlit run`\n"
     ]
    }
   ],
   "source": [
    "st.title(\"Market Dashboard\")\n",
    "ticker = st.text_input(\"Enter Stock Ticker\")\n",
    "n_years = st.slider(\"Data Range (years):\", 1, 10)\n",
    "today_date = date.today().strftime(\"%Y-%m-%d\")\n",
    "start_date = datetime.now() - timedelta(days=n_years * 365)"
   ]
  },
  {
   "cell_type": "markdown",
   "metadata": {},
   "source": [
    "### Load Ticker Data"
   ]
  },
  {
   "cell_type": "code",
   "execution_count": 4,
   "metadata": {},
   "outputs": [],
   "source": [
    "def load_data():\n",
    "    with st.spinner(\"Loading data...\"):     \n",
    "        data = yf.download(ticker, start_date, today_date)\n",
    "        data.reset_index(inplace=True)\n",
    "    return data"
   ]
  },
  {
   "cell_type": "markdown",
   "metadata": {},
   "source": [
    "### Stock Overview"
   ]
  },
  {
   "cell_type": "code",
   "execution_count": null,
   "metadata": {},
   "outputs": [],
   "source": [
    "def plot_ticker_data(data):\n",
    "    fig = go.Figure()\n",
    "    fig.add_trace(go.Scatter(x=data[\"Date\"], y=data[\"Open\"], name=\"Stock Open\"))\n",
    "    fig.add_trace(go.Scatter(x=data[\"Date\"], y=data[\"Close\"], name=\"Stock Close\"))\n",
    "    fig.add_trace(go.Scatter(x=data[\"Date\"], y=data[\"Adj Close\"], name=\"Adj. Close\"))\n",
    "    fig.layout.update(xaxis_rangeslider_visible=True)\n",
    "    st.plotly_chart(fig)"
   ]
  },
  {
   "cell_type": "code",
   "execution_count": null,
   "metadata": {},
   "outputs": [],
   "source": [
    "def get_metrics(data_copy):\n",
    "    annual_return = data_copy[\"% Change\"].mean()*252*100  # 252 is trading days\n",
    "    st_dev = np.std(data_copy[\"% Change\"])*np.sqrt(252)\n",
    "    st.metric(label=\"Annual Return\",\n",
    "              value=f\"{round(annual_return, 4)}%\")\n",
    "    st.metric(label=\"Standard Deviation\",\n",
    "              value=f\"{round(st_dev, 4)}%\")\n",
    "    st.metric(label=\"Risk Adjusted Return\",\n",
    "              value=f\"{round(annual_return/(st_dev*100), 4)}%\")"
   ]
  },
  {
   "cell_type": "code",
   "execution_count": null,
   "metadata": {},
   "outputs": [],
   "source": [
    "def current():\n",
    "    if not ticker:\n",
    "        st.warning(\"Stock Ticker Empty\", icon=\"⚠️\")\n",
    "        return\n",
    "    data = load_data()\n",
    "    if data.empty:\n",
    "        st.error(\"Invalid Ticker\", icon=\"🚨\")\n",
    "        return\n",
    "\n",
    "    # plot ticker data\n",
    "    st.subheader(\"Time Series Data\")\n",
    "    plot_ticker_data(data)\n",
    "\n",
    "    # plot stock data\n",
    "    st.subheader(\"Stock Analysis\")\n",
    "    data_copy = data\n",
    "    data_copy[\"% Change\"] = data[\"Adj Close\"] / data[\"Adj Close\"].shift(1) - 1\n",
    "    data_copy.dropna(inplace=True)\n",
    "    st.write(data_copy)\n",
    "\n",
    "    st.divider()\n",
    "    get_metrics(data_copy)\n"
   ]
  },
  {
   "cell_type": "markdown",
   "metadata": {},
   "source": [
    "### Stock Data Information"
   ]
  },
  {
   "cell_type": "code",
   "execution_count": null,
   "metadata": {},
   "outputs": [],
   "source": [
    "@st.cache_resource\n",
    "def get_balance_sheet(_fd):\n",
    "    balance_sheet = _fd.get_balance_sheet_annual(ticker)[0]\n",
    "    if balance_sheet.empty:\n",
    "        st.error(\"Invalid Ticker\", icon=\"🚨\")\n",
    "        return\n",
    "    bs = balance_sheet.T[2:]\n",
    "    bs.columns = list(balance_sheet.T.iloc[0])\n",
    "    return bs"
   ]
  },
  {
   "cell_type": "code",
   "execution_count": null,
   "metadata": {},
   "outputs": [],
   "source": [
    "@st.cache_resource\n",
    "def get_income_statement(_fd):\n",
    "    income_statement = _fd.get_income_statement_annual(ticker)[0]\n",
    "    if income_statement.empty:\n",
    "        st.error(\"Invalid Ticker\", icon=\"🚨\")\n",
    "        return\n",
    "    ics = income_statement.T[2:]\n",
    "    return ics"
   ]
  },
  {
   "cell_type": "code",
   "execution_count": null,
   "metadata": {},
   "outputs": [],
   "source": [
    "@st.cache_data\n",
    "def get_cashflow_statement(_fd):\n",
    "    cash_flow = _fd.get_cash_flow_annual(ticker)[0]\n",
    "    if cash_flow.empty:\n",
    "        st.error(\"Invalid Ticker\", icon=\"🚨\")\n",
    "        return\n",
    "    cf = cash_flow.T[2:]\n",
    "    cf.columns = list(cash_flow.T.iloc[0])\n",
    "    return cf"
   ]
  },
  {
   "cell_type": "code",
   "execution_count": null,
   "metadata": {},
   "outputs": [],
   "source": [
    "from alpha_vantage.fundamentaldata import FundamentalData\n",
    "def fundamental():\n",
    "    if not ticker:\n",
    "        st.warning(\"Stock Ticker Empty\", icon=\"⚠️\")\n",
    "        return\n",
    "\n",
    "    # load api\n",
    "    key = os.getenv(\"ALPHAVANTAGE_KEY\")\n",
    "    fd = FundamentalData(key, output_format=\"pandas\")\n",
    "    if not fd:\n",
    "        st.error(\"API Limit Exceeded\", icon=\"🚨\")\n",
    "        return\n",
    "\n",
    "    # accounting data\n",
    "    st.subheader(\"Balance Sheet\")\n",
    "    with st.spinner(\"Loading data...\"):\n",
    "        bs = get_balance_sheet(fd)\n",
    "        st.write(bs)\n",
    "    st.subheader(\"Income Statement\")\n",
    "    with st.spinner(\"Loading data...\"):\n",
    "        ics = get_income_statement(fd)\n",
    "        st.write(ics)\n",
    "    st.subheader(\"Cash Flow Statement\")\n",
    "    with st.spinner(\"Loading data...\"):\n",
    "        cf = get_cashflow_statement(fd)\n",
    "        st.write(cf)"
   ]
  },
  {
   "cell_type": "markdown",
   "metadata": {},
   "source": [
    "### Stock Forecast Information"
   ]
  },
  {
   "cell_type": "markdown",
   "metadata": {},
   "source": [
    "#### Training Model"
   ]
  },
  {
   "cell_type": "code",
   "execution_count": null,
   "metadata": {},
   "outputs": [],
   "source": [
    "def train_model(model, df_train):\n",
    "    model.fit(df_train)\n",
    "    future = model.make_future_dataframe(periods=n_years*365)\n",
    "    forecast = model.predict(future)\n",
    "    return forecast"
   ]
  },
  {
   "cell_type": "code",
   "execution_count": null,
   "metadata": {},
   "outputs": [],
   "source": [
    "def plot_forecast_data(model, data):\n",
    "    st.subheader(\"Forecast Chart\")\n",
    "    fig1 = plot_plotly(model, data)\n",
    "    fig1.layout.update(width=700, xaxis_rangeslider_visible=True)\n",
    "    st.plotly_chart(fig1)\n",
    "\n",
    "    st.subheader(\"Forecast Components\")\n",
    "    fig2 = model.plot_components(data)\n",
    "    st.write(fig2)"
   ]
  },
  {
   "cell_type": "code",
   "execution_count": null,
   "metadata": {},
   "outputs": [],
   "source": [
    "def forecast():\n",
    "    if not ticker:\n",
    "        st.warning(\"Stock Ticker Empty\", icon=\"⚠️\")\n",
    "        return\n",
    "    data = load_data()\n",
    "    if data.empty:\n",
    "        st.error(\"Invalid Ticker\", icon=\"🚨\")\n",
    "        return\n",
    "\n",
    "    df_train = data[[\"Date\", \"Close\"]]\n",
    "    df_train = df_train.rename(columns={\"Date\": \"ds\", \"Close\": \"y\"})\n",
    "    \n",
    "    # since my own model was not very useful for forecasting stocks, \n",
    "    # I will be using the Meta Prophet model for forecasting the stock movement\n",
    "    model = Prophet()\n",
    "\n",
    "    with st.spinner(\"Loading data...\"):\n",
    "        forecast_data = train_model(model, df_train)\n",
    "\n",
    "    # plot forecast data and display analysis\n",
    "    plot_forecast_data(model, forecast_data)\n",
    "    st.subheader(\"Forecast Analysis\")\n",
    "    st.write(forecast_data)\n"
   ]
  },
  {
   "cell_type": "markdown",
   "metadata": {},
   "source": [
    "### Stock News"
   ]
  },
  {
   "cell_type": "code",
   "execution_count": null,
   "metadata": {},
   "outputs": [],
   "source": [
    "def news():\n",
    "    if not ticker:\n",
    "        st.warning(\"Stock Ticker Empty\", icon=\"⚠️\")\n",
    "        return\n",
    "\n",
    "    st.header(f\"{ticker} News\")\n",
    "    with st.spinner(\"Loading data...\"):\n",
    "        sn = StockNews(ticker, save_news=False)\n",
    "        df_news = sn.read_rss()\n",
    "\n",
    "    for i in range(10):\n",
    "        st.divider()\n",
    "        st.subheader(f\"**{df_news['title'][i]}**\")\n",
    "        st.markdown(f\"_**Published:**_ {df_news['published'][i]}\")\n",
    "        st.markdown(f\"_{df_news['summary'][i]}_\")\n",
    "        st.write(\"___\")\n",
    "        ttl_sentiment = df_news[\"sentiment_title\"][i]\n",
    "        body_sentiment = df_news[\"sentiment_summary\"][i]\n",
    "        st.markdown(\n",
    "            f\"_**Sentiment:**_ :green[title={ttl_sentiment}, body={body_sentiment}]\")"
   ]
  },
  {
   "cell_type": "markdown",
   "metadata": {},
   "source": [
    "### Show Stock Tabs"
   ]
  },
  {
   "cell_type": "code",
   "execution_count": null,
   "metadata": {},
   "outputs": [],
   "source": [
    "tab1, tab2, tab3, tab4 = st.tabs([\"Stock Overview\", \"Stock Forecast\", \"Accounting Data\", \"Market News\"])\n",
    "with tab1: current()\n",
    "with tab2: forecast()\n",
    "with tab3: fundamental()\n",
    "with tab4: news()"
   ]
  }
 ],
 "metadata": {
  "kernelspec": {
   "display_name": "Python 3",
   "language": "python",
   "name": "python3"
  },
  "language_info": {
   "codemirror_mode": {
    "name": "ipython",
    "version": 3
   },
   "file_extension": ".py",
   "mimetype": "text/x-python",
   "name": "python",
   "nbconvert_exporter": "python",
   "pygments_lexer": "ipython3",
   "version": "3.9.16"
  },
  "orig_nbformat": 4
 },
 "nbformat": 4,
 "nbformat_minor": 2
}
