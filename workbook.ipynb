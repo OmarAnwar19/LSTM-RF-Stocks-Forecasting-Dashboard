{
 "cells": [
  {
   "cell_type": "markdown",
   "metadata": {},
   "source": [
    "### Imports"
   ]
  },
  {
   "cell_type": "code",
   "execution_count": 19,
   "metadata": {},
   "outputs": [],
   "source": [
    "import streamlit as st\n",
    "from datetime import date, datetime, timedelta\n",
    "import yfinance as yf\n",
    "from prophet import Prophet\n",
    "from prophet.plot import plot_plotly\n",
    "from plotly import graph_objects as go"
   ]
  },
  {
   "cell_type": "markdown",
   "metadata": {},
   "source": [
    "### Set-Up"
   ]
  },
  {
   "cell_type": "code",
   "execution_count": 32,
   "metadata": {},
   "outputs": [],
   "source": [
    "st.title(\"Market Dashboard\")\n",
    "ticker = st.text_input(\"Enter Stock Ticker\")\n",
    "n_years = st.slider(\"Data Range (years):\", 1, 10)\n",
    "today_date = date.today().strftime(\"%Y-%m-%d\")\n",
    "start_date = datetime.now() - timedelta(days=n_years * 365)"
   ]
  },
  {
   "cell_type": "markdown",
   "metadata": {},
   "source": [
    "### Load Ticker Data"
   ]
  },
  {
   "cell_type": "code",
   "execution_count": 29,
   "metadata": {},
   "outputs": [
    {
     "name": "stderr",
     "output_type": "stream",
     "text": [
      "2023-07-16 23:05:56.385 No runtime found, using MemoryCacheStorageManager\n"
     ]
    }
   ],
   "source": [
    "def load_data():\n",
    "    with st.spinner(\"Loading data...\"):     \n",
    "        data = yf.download(ticker, start_date, today_date)\n",
    "        data.reset_index(inplace=True)\n",
    "    return data"
   ]
  },
  {
   "cell_type": "markdown",
   "metadata": {},
   "source": [
    "### Current Stock Information"
   ]
  },
  {
   "cell_type": "code",
   "execution_count": 23,
   "metadata": {},
   "outputs": [],
   "source": [
    "def plot_ticker_data(data):\n",
    "    fig = go.Figure()\n",
    "    fig.add_trace(go.Scatter(x=data[\"Date\"], y=data[\"Open\"], name=\"Stock Open\"))\n",
    "    fig.add_trace(go.Scatter(x=data[\"Date\"], y=data[\"Close\"], name=\"Stock Close\"))\n",
    "    fig.layout.update(xaxis_rangeslider_visible=True)\n",
    "    st.plotly_chart(fig)"
   ]
  },
  {
   "cell_type": "code",
   "execution_count": 36,
   "metadata": {},
   "outputs": [],
   "source": [
    "def current():\n",
    "    if not ticker:\n",
    "        st.warning(\"Stock Ticker Empty\", icon=\"⚠️\")\n",
    "        return\n",
    "    data = load_data()\n",
    "    if data.empty:\n",
    "        st.error(\"Invalid Ticker\", icon=\"🚨\")\n",
    "        return\n",
    "\n",
    "    # head of fetched raw data\n",
    "    st.subheader(\"Raw Data (first 5 cols)\")\n",
    "    st.write(data.head())\n",
    "\n",
    "    # plot ticker data\n",
    "    st.subheader(\"Time Series Data\")\n",
    "    plot_ticker_data(data)"
   ]
  },
  {
   "cell_type": "markdown",
   "metadata": {},
   "source": [
    "### Stock Forecast Information"
   ]
  },
  {
   "cell_type": "markdown",
   "metadata": {},
   "source": [
    "#### Training Model"
   ]
  },
  {
   "cell_type": "code",
   "execution_count": 35,
   "metadata": {},
   "outputs": [],
   "source": [
    "def train_model(model, df_train):\n",
    "    model.fit(df_train)\n",
    "    future = model.make_future_dataframe(periods=n_years*365)\n",
    "    forecast = model.predict(future)\n",
    "    return forecast"
   ]
  },
  {
   "cell_type": "code",
   "execution_count": 42,
   "metadata": {},
   "outputs": [],
   "source": [
    "def plot_forecast_data(model, data):\n",
    "    st.subheader(\"Forecast Data\")\n",
    "    fig1 = plot_plotly(model, data)\n",
    "    fig1.layout.update(width=700, xaxis_rangeslider_visible=True)\n",
    "    st.plotly_chart(fig1)\n",
    "\n",
    "    st.subheader(\"Forecast Components\")\n",
    "    fig2 = model.plot_components(data)\n",
    "    st.write(fig2)"
   ]
  },
  {
   "cell_type": "code",
   "execution_count": 43,
   "metadata": {},
   "outputs": [],
   "source": [
    "def forecast():\n",
    "    if not ticker:\n",
    "        st.warning(\"Stock Ticker Empty\", icon=\"⚠️\")\n",
    "        return\n",
    "    data = load_data()\n",
    "    if data.empty:\n",
    "        st.error(\"Invalid Ticker\", icon=\"🚨\")\n",
    "        return\n",
    "    \n",
    "    df_train = data[[\"Date\", \"Close\"]]\n",
    "    df_train = df_train.rename(columns={\"Date\": \"ds\", \"Close\": \"y\"})\n",
    "    model = Prophet()\n",
    "\n",
    "    with st.spinner(\"Loading data...\"):     \n",
    "        forecast_data = train_model(model, df_train)\n",
    "\n",
    "    # tail of forecast data\n",
    "    st.subheader(\"Raw Data (last 5 cols)\")\n",
    "    st.write(forecast_data.tail())\n",
    "\n",
    "    # plot forecast data\n",
    "    plot_forecast_data(model, forecast_data)\n"
   ]
  },
  {
   "cell_type": "markdown",
   "metadata": {},
   "source": [
    "### Show Stock Tabs"
   ]
  },
  {
   "cell_type": "code",
   "execution_count": 40,
   "metadata": {},
   "outputs": [],
   "source": [
    "tab1, tab2 = st.tabs([\"Current\", \"Forecast\"])\n",
    "with tab1: current()\n",
    "with tab2: forecast()"
   ]
  }
 ],
 "metadata": {
  "kernelspec": {
   "display_name": "Python 3",
   "language": "python",
   "name": "python3"
  },
  "language_info": {
   "codemirror_mode": {
    "name": "ipython",
    "version": 3
   },
   "file_extension": ".py",
   "mimetype": "text/x-python",
   "name": "python",
   "nbconvert_exporter": "python",
   "pygments_lexer": "ipython3",
   "version": "3.9.16"
  },
  "orig_nbformat": 4
 },
 "nbformat": 4,
 "nbformat_minor": 2
}
